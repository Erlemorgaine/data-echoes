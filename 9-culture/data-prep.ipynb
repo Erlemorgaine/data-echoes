{
 "cells": [
  {
   "cell_type": "code",
   "execution_count": null,
   "metadata": {},
   "outputs": [
    {
     "ename": "",
     "evalue": "",
     "output_type": "error",
     "traceback": [
      "\u001b[1;31mRunning cells with 'c:\\Python310\\python.exe' requires the ipykernel package.\n",
      "\u001b[1;31mRun the following command to install 'ipykernel' into the Python environment. \n",
      "\u001b[1;31mCommand: 'c:/Python310/python.exe -m pip install ipykernel -U --user --force-reinstall'"
     ]
    }
   ],
   "source": [
    "import pandas as pd\n",
    "\n",
    "datasets = ['ayam', 'ikan', 'kambing', 'sapi', 'telur', 'tahu', 'tempe', 'udang']\n",
    "dfs = [pd.read_csv(f'./indo-food/dataset-{food}.csv') for food in datasets]\n",
    "dfs = [df[['Title', 'Ingredients']] for df in dfs]\n",
    "\n",
    "[pd.write_csv(df, f'./indo-food/new-{food}.csv') for df, food in zip(dfs, datasets)]"
   ]
  }
 ],
 "metadata": {
  "kernelspec": {
   "display_name": "Python 3",
   "language": "python",
   "name": "python3"
  },
  "language_info": {
   "name": "python",
   "version": "3.10.4"
  },
  "orig_nbformat": 4
 },
 "nbformat": 4,
 "nbformat_minor": 2
}
